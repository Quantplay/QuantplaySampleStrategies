{
 "cells": [
  {
   "cell_type": "code",
   "execution_count": null,
   "id": "fc91e143",
   "metadata": {},
   "outputs": [],
   "source": [
    "data.loc[:, 'hammer'] = talib.CDLHAMMER(data.open,\n",
    "                                        data.high, \n",
    "                                        data.low, \n",
    "                                        data.close)\n",
    "data[(data.hammer == 100)].sort_values(\"date\")"
   ]
  }
 ],
 "metadata": {
  "kernelspec": {
   "display_name": "Python 3",
   "language": "python",
   "name": "python3"
  },
  "language_info": {
   "codemirror_mode": {
    "name": "ipython",
    "version": 3
   },
   "file_extension": ".py",
   "mimetype": "text/x-python",
   "name": "python",
   "nbconvert_exporter": "python",
   "pygments_lexer": "ipython3",
   "version": "3.8.9"
  }
 },
 "nbformat": 4,
 "nbformat_minor": 5
}
