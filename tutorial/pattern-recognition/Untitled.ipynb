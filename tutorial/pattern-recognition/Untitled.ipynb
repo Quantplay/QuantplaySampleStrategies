{
 "cells": [
  {
   "cell_type": "code",
   "execution_count": null,
   "id": "9921cff2",
   "metadata": {},
   "outputs": [],
   "source": [
    "import talib\n",
    "from quantplay.service import market\n",
    "\n",
    "data = market.equity_data(interval='day', \n",
    "                          symbols=market.symbols(\"FNO_STOCKS\"))\n",
    "\n",
    "data.loc[:, 'doji_indicator'] = talib.CDLDOJI(data.open, data.high, data.low, data.close)\n",
    "data[(data.doji_indicator == 100) & (data.date == data.date.max())]"
   ]
  }
 ],
 "metadata": {
  "kernelspec": {
   "display_name": "Python 3",
   "language": "python",
   "name": "python3"
  },
  "language_info": {
   "codemirror_mode": {
    "name": "ipython",
    "version": 3
   },
   "file_extension": ".py",
   "mimetype": "text/x-python",
   "name": "python",
   "nbconvert_exporter": "python",
   "pygments_lexer": "ipython3",
   "version": "3.8.9"
  }
 },
 "nbformat": 4,
 "nbformat_minor": 5
}
