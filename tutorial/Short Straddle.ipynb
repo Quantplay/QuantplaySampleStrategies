{
 "cells": [
  {
   "cell_type": "code",
   "execution_count": 1,
   "id": "910e7810",
   "metadata": {},
   "outputs": [
    {
     "ename": "ModuleNotFoundError",
     "evalue": "No module named 'quantplay'",
     "output_type": "error",
     "traceback": [
      "\u001b[0;31m---------------------------------------------------------------------------\u001b[0m",
      "\u001b[0;31mModuleNotFoundError\u001b[0m                       Traceback (most recent call last)",
      "\u001b[0;32m<ipython-input-1-d148f8c40ba2>\u001b[0m in \u001b[0;36m<module>\u001b[0;34m\u001b[0m\n\u001b[0;32m----> 1\u001b[0;31m \u001b[0;32mfrom\u001b[0m \u001b[0mquantplay\u001b[0m\u001b[0;34m.\u001b[0m\u001b[0mstrategy\u001b[0m\u001b[0;34m.\u001b[0m\u001b[0mbase\u001b[0m \u001b[0;32mimport\u001b[0m \u001b[0mQuantplayAlgorithm\u001b[0m\u001b[0;34m\u001b[0m\u001b[0;34m\u001b[0m\u001b[0m\n\u001b[0m\u001b[1;32m      2\u001b[0m \u001b[0;32mfrom\u001b[0m \u001b[0mquantplay\u001b[0m\u001b[0;34m.\u001b[0m\u001b[0mutils\u001b[0m\u001b[0;34m.\u001b[0m\u001b[0mconstant\u001b[0m \u001b[0;32mimport\u001b[0m \u001b[0mTickInterval\u001b[0m\u001b[0;34m\u001b[0m\u001b[0;34m\u001b[0m\u001b[0m\n\u001b[1;32m      3\u001b[0m \u001b[0;32mfrom\u001b[0m \u001b[0mquantplay\u001b[0m\u001b[0;34m.\u001b[0m\u001b[0mservice\u001b[0m \u001b[0;32mimport\u001b[0m \u001b[0mmarket\u001b[0m\u001b[0;34m\u001b[0m\u001b[0;34m\u001b[0m\u001b[0m\n\u001b[1;32m      4\u001b[0m \u001b[0;32mimport\u001b[0m \u001b[0mpandas\u001b[0m \u001b[0;32mas\u001b[0m \u001b[0mpd\u001b[0m\u001b[0;34m\u001b[0m\u001b[0;34m\u001b[0m\u001b[0m\n\u001b[1;32m      5\u001b[0m \u001b[0;34m\u001b[0m\u001b[0m\n",
      "\u001b[0;31mModuleNotFoundError\u001b[0m: No module named 'quantplay'"
     ]
    }
   ],
   "source": [
    "from quantplay.strategy.base import QuantplayAlgorithm\n",
    "from quantplay.utils.constant import TickInterval\n",
    "from quantplay.service import market\n",
    "import pandas as pd\n",
    "\n",
    "\n",
    "class Straddle(QuantplayAlgorithm):\n",
    "    def __init__(self):\n",
    "        self.interval = TickInterval.minute\n",
    "        self.entry_time = \"09:29\"\n",
    "        self.exit_time = \"15:15\"\n",
    "        self.strategy_trigger_times = [self.entry_time]\n",
    "        self.exchange_to_trade_on = \"NFO\"\n",
    "        self.option_nearest_expiry_offset = 0\n",
    "        self.option_chain_depth = 0\n",
    "        self.backtest_after_date = \"2020-01-01\"\n",
    "        self.backtest_before_date = \"2022-02-25\"\n",
    "        self.stream_symbols_by_security_type = {\"EQ\": [\"NIFTY 50\"]}\n",
    "        self.strategy_type = \"intraday\"\n",
    "        self.strategy_tag = \"straddle\"\n",
    "\n",
    "        super(Straddle, self).__init__()\n",
    "\n",
    "    def get_trades(self, market_data):\n",
    "        equity_data = market_data[market_data.security_type == \"EQ\"]\n",
    "\n",
    "        trades = market.get_trades(equity_data, entry_time_regex=self.entry_time)\n",
    "\n",
    "        trades = self.add_expiry(trades, security_type=\"OPT\")\n",
    "\n",
    "        trades.loc[:, \"atm_price\"] = (\n",
    "            round((trades.close / trades.strike_gap).astype(float)) * trades.strike_gap\n",
    "        )\n",
    "        trades.loc[:, \"atm_price\"] = trades.atm_price.astype(int)\n",
    "\n",
    "        pe_trades = market.option_symbol(\n",
    "            trades, price_column=\"atm_price\", option_type=\"PE\"\n",
    "        )\n",
    "        ce_trades = market.option_symbol(\n",
    "            trades, price_column=\"atm_price\", option_type=\"CE\"\n",
    "        )\n",
    "\n",
    "        trades = pd.concat([pe_trades, ce_trades], axis=0)\n",
    "\n",
    "        trades.loc[:, \"transaction_type\"] = \"SELL\"\n",
    "        trades.loc[:, \"stoploss\"] = 0.5\n",
    "        trades.loc[:, \"quantity\"] = 100\n",
    "\n",
    "        return trades\n"
   ]
  },
  {
   "cell_type": "code",
   "execution_count": null,
   "id": "6445bcb2",
   "metadata": {},
   "outputs": [],
   "source": [
    "strategy = Straddle()\n",
    "strategy.validate()"
   ]
  },
  {
   "cell_type": "code",
   "execution_count": null,
   "id": "dce33170",
   "metadata": {},
   "outputs": [],
   "source": [
    "results, trades = strategy.backtest()"
   ]
  }
 ],
 "metadata": {
  "kernelspec": {
   "display_name": "Python 3",
   "language": "python",
   "name": "python3"
  },
  "language_info": {
   "codemirror_mode": {
    "name": "ipython",
    "version": 3
   },
   "file_extension": ".py",
   "mimetype": "text/x-python",
   "name": "python",
   "nbconvert_exporter": "python",
   "pygments_lexer": "ipython3",
   "version": "3.8.9"
  }
 },
 "nbformat": 4,
 "nbformat_minor": 5
}
