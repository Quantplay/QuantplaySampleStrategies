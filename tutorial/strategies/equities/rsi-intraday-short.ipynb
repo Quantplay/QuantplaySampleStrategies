{
 "cells": [
  {
   "cell_type": "code",
   "execution_count": null,
   "id": "29b66961",
   "metadata": {},
   "outputs": [],
   "source": [
    "from quantplay.strategy.base import QuantplayAlgorithm\n",
    "from quantplay.utils.constant import TickInterval\n",
    "from quantplay.service import market\n",
    "import numpy as np\n",
    "import pandas as pd\n",
    "import talib\n",
    "\n",
    "class RSI(QuantplayAlgorithm):\n",
    "    def __init__(self):\n",
    "        self.interval = \"5minute\"\n",
    "        self.entry_time = \"09:25\"\n",
    "        self.exit_time = \"15:15\"\n",
    "        self.exchange_to_trade_on = \"NSE\"\n",
    "        self.stream_symbols_by_security_type = {\"EQ\": market.symbols(universe=\"FNO_STOCKS\")}\n",
    "        self.strategy_type = \"intraday\"\n",
    "        self.strategy_tag = \"rsi\"\n",
    "\n",
    "        super(RSI, self).__init__()\n",
    "\n",
    "    def get_trades(self, market_data):\n",
    "        trades = market.get_trades(market_data, self.entry_time)\n",
    "\n",
    "        trades.loc[:, 'rsi'] = talib.RSI(trades.close, timeperiod=7)\n",
    "        trades = trades[trades.rsi > 70]\n",
    "\n",
    "        trades.loc[:, 'tradingsymbol'] = trades.symbol\n",
    "        trades.loc[:, \"transaction_type\"] = \"SELL\"\n",
    "        trades.loc[:, \"stoploss\"] = 0.03\n",
    "        trades.loc[:, \"quantity\"] = (100000/trades.close).astype(int)\n",
    "\n",
    "        return trades"
   ]
  },
  {
   "cell_type": "code",
   "execution_count": 5,
   "id": "5df0ce0a",
   "metadata": {},
   "outputs": [],
   "source": [
    "strategy = RSI()\n",
    "strategy.validate()\n",
    "res, trades = strategy.backtest()"
   ]
  }
 ],
 "metadata": {
  "kernelspec": {
   "display_name": "Python 3",
   "language": "python",
   "name": "python3"
  },
  "language_info": {
   "codemirror_mode": {
    "name": "ipython",
    "version": 3
   },
   "file_extension": ".py",
   "mimetype": "text/x-python",
   "name": "python",
   "nbconvert_exporter": "python",
   "pygments_lexer": "ipython3",
   "version": "3.8.9"
  }
 },
 "nbformat": 4,
 "nbformat_minor": 5
}
