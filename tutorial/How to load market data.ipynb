{
 "cells": [
  {
   "cell_type": "code",
   "execution_count": 1,
   "metadata": {},
   "outputs": [],
   "source": [
    "# load libraries\n",
    "from quantplay.strategies.qplay_algorithm import QplayAlgorithm\n",
    "from quantplay.utils.stock_utils import StockUtils\n",
    "from quantplay.utils.alpha_factory import QuantplayAlphaFactory\n",
    "from quantplay.utils.data_utils import DataUtils\n",
    "import numpy as np\n",
    "import pandas as pd"
   ]
  },
  {
   "cell_type": "code",
   "execution_count": 2,
   "metadata": {
    "scrolled": true
   },
   "outputs": [
    {
     "name": "stdout",
     "output_type": "stream",
     "text": [
      "time taken to load data for day candles --- 1.6947598457336426 seconds ---\n",
      "time taken to load data for minute candles --- 8.083122730255127 seconds ---\n"
     ]
    }
   ],
   "source": [
    "# load market data\n",
    "day_candles = DataUtils.get_data(path='/NSE_EQ/', interval='day', stocks=[\"SBIN\", \"HDFCBANK\"])\n",
    "minute_candles = DataUtils.get_data(path='/NSE_EQ/', interval='minute', stocks=[\"SBIN\", \"HDFCBANK\"])"
   ]
  }
 ],
 "metadata": {
  "kernelspec": {
   "display_name": "Python 3",
   "language": "python",
   "name": "python3"
  },
  "language_info": {
   "codemirror_mode": {
    "name": "ipython",
    "version": 3
   },
   "file_extension": ".py",
   "mimetype": "text/x-python",
   "name": "python",
   "nbconvert_exporter": "python",
   "pygments_lexer": "ipython3",
   "version": "3.7.7"
  }
 },
 "nbformat": 4,
 "nbformat_minor": 4
}
